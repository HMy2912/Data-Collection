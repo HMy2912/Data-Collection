{
 "cells": [
  {
   "cell_type": "code",
   "execution_count": 1,
   "id": "349c19b7",
   "metadata": {},
   "outputs": [],
   "source": [
    "import csv\n",
    "import requests\n",
    "from bs4 import BeautifulSoup\n",
    "from datetime import datetime"
   ]
  },
  {
   "cell_type": "code",
   "execution_count": 2,
   "id": "ca937eee",
   "metadata": {},
   "outputs": [],
   "source": [
    "dt_string = datetime.now().strftime(\"-%d%m%Y-%H%M%S\")\n",
    "\n",
    "html = requests.get('https://www.worldometers.info/coronavirus/').text\n",
    "html_soup = BeautifulSoup(html, 'html.parser')\n",
    "table_today = html_soup.find('table', id='main_table_countries_today')\n",
    "rows = table_today.find_all('tr')"
   ]
  },
  {
   "cell_type": "code",
   "execution_count": 3,
   "id": "9e3c07dd",
   "metadata": {},
   "outputs": [],
   "source": [
    "def extract_text(row, tag):\n",
    "    element = BeautifulSoup(row, 'html.parser').find_all(tag)\n",
    "    text = [col.get_text().strip() for col in element]\n",
    "    return text"
   ]
  },
  {
   "cell_type": "code",
   "execution_count": 4,
   "id": "3ec832fd",
   "metadata": {},
   "outputs": [],
   "source": [
    "def test(filename):\n",
    "    with open(filename, 'w', newline='') as store:\n",
    "        Store = csv.writer(store, delimiter=',')\n",
    "        Store.writerow(heading_row)\n",
    "        for row in rows[8:232]:\n",
    "            test_data = extract_text(str(row), 'td')[1:]\n",
    "            test_data = [0 if i == '' or i == 'N/A' else i for i in test_data]\n",
    "            Store.writerow(test_data)"
   ]
  },
  {
   "cell_type": "code",
   "execution_count": 5,
   "id": "b09d14b6",
   "metadata": {},
   "outputs": [
    {
     "name": "stdout",
     "output_type": "stream",
     "text": [
      "coronavirus-09122021-171204.csv\n"
     ]
    }
   ],
   "source": [
    "heading = rows.pop(0)\n",
    "heading_row = extract_text(str(heading), 'th')[1:]\n",
    "print('coronavirus' + dt_string + '.csv')\n",
    "test('coronavirus' + dt_string + '.csv')"
   ]
  },
  {
   "cell_type": "code",
   "execution_count": null,
   "id": "9b43ea26",
   "metadata": {},
   "outputs": [],
   "source": []
  }
 ],
 "metadata": {
  "kernelspec": {
   "display_name": "Python 3",
   "language": "python",
   "name": "python3"
  },
  "language_info": {
   "codemirror_mode": {
    "name": "ipython",
    "version": 3
   },
   "file_extension": ".py",
   "mimetype": "text/x-python",
   "name": "python",
   "nbconvert_exporter": "python",
   "pygments_lexer": "ipython3",
   "version": "3.8.8"
  }
 },
 "nbformat": 4,
 "nbformat_minor": 5
}
